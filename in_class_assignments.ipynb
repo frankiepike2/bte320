{
  "nbformat": 4,
  "nbformat_minor": 0,
  "metadata": {
    "colab": {
      "provenance": [],
      "authorship_tag": "ABX9TyMqT8FNrwptmGvcciqC2FYc",
      "include_colab_link": true
    },
    "kernelspec": {
      "name": "python3",
      "display_name": "Python 3"
    },
    "language_info": {
      "name": "python"
    }
  },
  "cells": [
    {
      "cell_type": "markdown",
      "metadata": {
        "id": "view-in-github",
        "colab_type": "text"
      },
      "source": [
        "<a href=\"https://colab.research.google.com/github/frankiepike2/bte320/blob/main/in_class_assignments.ipynb\" target=\"_parent\"><img src=\"https://colab.research.google.com/assets/colab-badge.svg\" alt=\"Open In Colab\"/></a>"
      ]
    },
    {
      "cell_type": "code",
      "execution_count": null,
      "metadata": {
        "colab": {
          "base_uri": "https://localhost:8080/"
        },
        "id": "QDrVc5aOjUmX",
        "outputId": "17f14d2c-3a59-4d5f-ada2-baf12772d6f8"
      },
      "outputs": [
        {
          "output_type": "stream",
          "name": "stdout",
          "text": [
            "244.92000000000002\n"
          ]
        }
      ],
      "source": [
        "pi = 3.14\n",
        "h = 10\n",
        "r = 3\n",
        "\n",
        "Area = 2 * pi * r * h + 2 * pi * r ** 2\n",
        "print(Area)"
      ]
    },
    {
      "cell_type": "code",
      "source": [
        "pl = input(\"player 1 select \")\n",
        "pl2 = input(\"player 2 select \")\n",
        "if pl == pl2:\n",
        "    print(\"draw\")\n",
        "elif pl == \"rock\" and pl2 == \"scissors\":\n",
        "    print(\"player 1 wins\")\n",
        "elif pl == \"rock\" and pl2 == \"paper\":\n",
        "    print(\"player 2 wins\")\n",
        "elif pl == \"paper\" and pl2 == \"scissors\":\n",
        "    print(\"player 2 wins\")\n",
        "elif pl == \"paper\" and pl2 == \"rock\":\n",
        "    print(\"player 1 wins\")\n",
        "elif pl == \"scissors\" and pl2 == \"rock\":\n",
        "    print(\"player 2 wins\")\n",
        "elif pl == \"scissors\" and pl2 == \"paper\":\n",
        "    print(\"player 1 wins\")"
      ],
      "metadata": {
        "colab": {
          "base_uri": "https://localhost:8080/"
        },
        "id": "35qZGZBrsPei",
        "outputId": "d328fc0c-6562-48fa-8bc9-7d465578d9f6"
      },
      "execution_count": null,
      "outputs": [
        {
          "output_type": "stream",
          "name": "stdout",
          "text": [
            "player 1 select rock\n",
            "player 2 select paper\n",
            "player 2 wins\n"
          ]
        }
      ]
    },
    {
      "cell_type": "code",
      "source": [
        "n1 = float(input(\"number 1 \"))\n",
        "n2 = float(input(\"number 2 \"))\n",
        "symbol = input(\"symbol\")\n",
        "if symbol == \"+\":\n",
        "    print(n1 + n2)\n",
        "elif symbol == \"-\":\n",
        "    print(n1 - n2)\n",
        "elif symbol == \"*\":\n",
        "    print(n1 * n2)\n",
        "elif symbol == \"/\":\n",
        "    print (n1/n2)\n",
        "elif symbol == \"**\":\n",
        "    print(n1 ** n2)"
      ],
      "metadata": {
        "colab": {
          "base_uri": "https://localhost:8080/"
        },
        "id": "dZgY9Owz5Ej6",
        "outputId": "72239c06-c1b8-4883-cec0-c2a3eca89b1b"
      },
      "execution_count": null,
      "outputs": [
        {
          "output_type": "stream",
          "name": "stdout",
          "text": [
            "number 1 0\n",
            "number 2 1\n",
            "symbol/\n",
            "0.0\n"
          ]
        }
      ]
    },
    {
      "cell_type": "code",
      "source": [
        "!pip install ColabTurtlePlus"
      ],
      "metadata": {
        "colab": {
          "base_uri": "https://localhost:8080/"
        },
        "id": "SHQuj8qy_Q8y",
        "outputId": "ac0dd0b0-c1c3-4d41-d038-19d6ea40510f"
      },
      "execution_count": null,
      "outputs": [
        {
          "output_type": "stream",
          "name": "stdout",
          "text": [
            "Collecting ColabTurtlePlus\n",
            "  Downloading ColabTurtlePlus-2.0.1-py3-none-any.whl.metadata (10 kB)\n",
            "Downloading ColabTurtlePlus-2.0.1-py3-none-any.whl (31 kB)\n",
            "Installing collected packages: ColabTurtlePlus\n",
            "Successfully installed ColabTurtlePlus-2.0.1\n"
          ]
        }
      ]
    },
    {
      "cell_type": "code",
      "source": [
        "from ColabTurtlePlus.Turtle import *\n",
        "\n",
        "clearscreen()\n",
        "\n",
        "reset = True\n",
        "\n",
        "if reset:\n",
        "  clear()\n",
        "\n",
        "color(\"black\", \"black\")\n",
        "shape('blank')\n",
        "begin_fill()\n",
        "jumpto(0,0)\n",
        "\n",
        "for i in range(4):\n",
        "  forward(100)\n",
        "  left(90)\n",
        "\n",
        "\n",
        "penup()\n",
        "end_fill()"
      ],
      "metadata": {
        "colab": {
          "base_uri": "https://localhost:8080/",
          "height": 621
        },
        "id": "guTUJ8IB-Je4",
        "outputId": "fb25e850-db8c-49d3-9eba-93d22dbaf52d"
      },
      "execution_count": null,
      "outputs": [
        {
          "output_type": "display_data",
          "data": {
            "text/plain": [
              "<IPython.core.display.HTML object>"
            ],
            "text/html": [
              "\n",
              "      <svg width=\"800\" height=\"600\">  \n",
              "        <rect width=\"100%\" height=\"100%\" style=\"fill:white;stroke:;stroke-width:1\"/>\n",
              "        \n",
              "        \n",
              "        <path fill-rule=\"evenodd\" fill-opacity=\"1\" d=\"M 400.0 300.0  L 400.0 300.0  L 500.0 300.0  L 500.0 200.0  L 400.0 200.0  L 400.0 300.0 \" stroke-linecap=\"round\" style=\"stroke:none;stroke-width:1\" fill=\"black\" />\n",
              "        \n",
              "        \n",
              "        \n",
              "      </svg>\n",
              "    "
            ]
          },
          "metadata": {}
        }
      ]
    },
    {
      "cell_type": "code",
      "source": [
        "for i in range(40,5,-5):\n",
        "  print(i, end=' ')"
      ],
      "metadata": {
        "colab": {
          "base_uri": "https://localhost:8080/"
        },
        "id": "fl-SL2fsEAXV",
        "outputId": "7ea40fe1-e988-41d7-d71a-28c5e6262209"
      },
      "execution_count": null,
      "outputs": [
        {
          "output_type": "stream",
          "name": "stdout",
          "text": [
            "40 35 30 25 20 15 10 "
          ]
        }
      ]
    },
    {
      "cell_type": "code",
      "source": [
        "import random\n",
        "play = input(\"Do you want to play a game? \")\n",
        "\n",
        "while play == \"yes\":\n",
        "\n",
        "  pl = input(\"player 1: rock, paper, scissors: \")\n",
        "  pl2 = random.choice(\"rock, paper, scissors: \")\n",
        "\n",
        "\n",
        "  if pl == pl2:\n",
        "    print(\"draw\")\n",
        "  elif(\n",
        "    (pl == \"rock\" and pl2 == \"scissors\") or\n",
        "      (pl == \"paper\" and pl2 == \"rock\") or\n",
        "        (pl == \"scissors\" and pl2 == \"paper\")\n",
        "      ):\n",
        "    print(\"player 1 wins\")\n",
        "  else:\n",
        "    print(\"player 2 wins\")\n",
        "\n",
        "    answer = input(\"Do you want to play again? \")"
      ],
      "metadata": {
        "colab": {
          "base_uri": "https://localhost:8080/"
        },
        "id": "EmJX2piTylA5",
        "outputId": "2764fa05-853e-45bd-bfc3-491cd9f1092d"
      },
      "execution_count": null,
      "outputs": [
        {
          "output_type": "stream",
          "name": "stdout",
          "text": [
            "Do you want to play a game? yes\n",
            "player 1: rock, paper, scissors: rock\n",
            "player 2 wins\n"
          ]
        }
      ]
    }
  ]
}