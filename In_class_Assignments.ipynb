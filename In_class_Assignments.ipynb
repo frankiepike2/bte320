{
  "cells": [
    {
      "cell_type": "markdown",
      "metadata": {
        "id": "view-in-github",
        "colab_type": "text"
      },
      "source": [
        "<a href=\"https://colab.research.google.com/github/frankiepike2/bte320/blob/main/In_class_Assignments.ipynb\" target=\"_parent\"><img src=\"https://colab.research.google.com/assets/colab-badge.svg\" alt=\"Open In Colab\"/></a>"
      ]
    },
    {
      "cell_type": "code",
      "execution_count": null,
      "metadata": {
        "colab": {
          "base_uri": "https://localhost:8080/",
          "height": 621
        },
        "id": "guTUJ8IB-Je4",
        "outputId": "fb25e850-db8c-49d3-9eba-93d22dbaf52d"
      },
      "outputs": [
        {
          "data": {
            "text/html": [
              "\n",
              "      <svg width=\"800\" height=\"600\">  \n",
              "        <rect width=\"100%\" height=\"100%\" style=\"fill:white;stroke:;stroke-width:1\"/>\n",
              "        \n",
              "        \n",
              "        <path fill-rule=\"evenodd\" fill-opacity=\"1\" d=\"M 400.0 300.0  L 400.0 300.0  L 500.0 300.0  L 500.0 200.0  L 400.0 200.0  L 400.0 300.0 \" stroke-linecap=\"round\" style=\"stroke:none;stroke-width:1\" fill=\"black\" />\n",
              "        \n",
              "        \n",
              "        \n",
              "      </svg>\n",
              "    "
            ],
            "text/plain": [
              "<IPython.core.display.HTML object>"
            ]
          },
          "metadata": {},
          "output_type": "display_data"
        }
      ],
      "source": [
        "from ColabTurtlePlus.Turtle import *\n",
        "\n",
        "clearscreen()\n",
        "\n",
        "reset = True\n",
        "\n",
        "if reset:\n",
        "  clear()\n",
        "\n",
        "color(\"black\", \"black\")\n",
        "shape('blank')\n",
        "begin_fill()\n",
        "jumpto(0,0)\n",
        "\n",
        "for i in range(4):\n",
        "  forward(100)\n",
        "  left(90)\n",
        "\n",
        "\n",
        "penup()\n",
        "end_fill()"
      ]
    },
    {
      "cell_type": "code",
      "execution_count": null,
      "metadata": {
        "colab": {
          "base_uri": "https://localhost:8080/"
        },
        "id": "QDrVc5aOjUmX",
        "outputId": "17f14d2c-3a59-4d5f-ada2-baf12772d6f8"
      },
      "outputs": [
        {
          "name": "stdout",
          "output_type": "stream",
          "text": [
            "244.92000000000002\n"
          ]
        }
      ],
      "source": [
        "pi = 3.14\n",
        "h = 10\n",
        "r = 3\n",
        "\n",
        "Area = 2 * pi * r * h + 2 * pi * r ** 2\n",
        "print(Area)"
      ]
    },
    {
      "cell_type": "code",
      "execution_count": null,
      "metadata": {
        "colab": {
          "background_save": true,
          "base_uri": "https://localhost:8080/"
        },
        "id": "EmJX2piTylA5",
        "outputId": "edf3d0f0-cf8f-483c-9cd6-029d4d4780fa"
      },
      "outputs": [
        {
          "name": "stdout",
          "output_type": "stream",
          "text": [
            "player 2 wins\n"
          ]
        }
      ],
      "source": [
        "import random\n",
        "play = input(\"Do you want to play a game? \")\n",
        "\n",
        "while play == \"yes\":\n",
        "\n",
        "  pl = input(\"player 1: rock, paper, scissors: \")\n",
        "  pl2 = random.choice(\"rock, paper, scissors: \")\n",
        "\n",
        "\n",
        "  if pl == pl2:\n",
        "    print(\"draw\")\n",
        "  elif(\n",
        "    (pl == \"rock\" and pl2 == \"scissors\") or\n",
        "      (pl == \"paper\" and pl2 == \"rock\") or\n",
        "        (pl == \"scissors\" and pl2 == \"paper\")\n",
        "      ):\n",
        "    print(\"player 1 wins\")\n",
        "  else:\n",
        "    print(\"player 2 wins\")\n",
        "\n",
        "    answer = input(\"Do you want to play again? \")"
      ]
    },
    {
      "cell_type": "code",
      "execution_count": null,
      "metadata": {
        "colab": {
          "base_uri": "https://localhost:8080/"
        },
        "id": "35qZGZBrsPei",
        "outputId": "d328fc0c-6562-48fa-8bc9-7d465578d9f6"
      },
      "outputs": [
        {
          "name": "stdout",
          "output_type": "stream",
          "text": [
            "player 1 select rock\n",
            "player 2 select paper\n",
            "player 2 wins\n"
          ]
        }
      ],
      "source": [
        "pl = input(\"player 1 select \")\n",
        "pl2 = input(\"player 2 select \")\n",
        "if pl == pl2:\n",
        "    print(\"draw\")\n",
        "elif pl == \"rock\" and pl2 == \"scissors\":\n",
        "    print(\"player 1 wins\")\n",
        "elif pl == \"rock\" and pl2 == \"paper\":\n",
        "    print(\"player 2 wins\")\n",
        "elif pl == \"paper\" and pl2 == \"scissors\":\n",
        "    print(\"player 2 wins\")\n",
        "elif pl == \"paper\" and pl2 == \"rock\":\n",
        "    print(\"player 1 wins\")\n",
        "elif pl == \"scissors\" and pl2 == \"rock\":\n",
        "    print(\"player 2 wins\")\n",
        "elif pl == \"scissors\" and pl2 == \"paper\":\n",
        "    print(\"player 1 wins\")"
      ]
    },
    {
      "cell_type": "code",
      "execution_count": null,
      "metadata": {
        "colab": {
          "base_uri": "https://localhost:8080/"
        },
        "id": "dZgY9Owz5Ej6",
        "outputId": "72239c06-c1b8-4883-cec0-c2a3eca89b1b"
      },
      "outputs": [
        {
          "name": "stdout",
          "output_type": "stream",
          "text": [
            "number 1 0\n",
            "number 2 1\n",
            "symbol/\n",
            "0.0\n"
          ]
        }
      ],
      "source": [
        "n1 = float(input(\"number 1 \"))\n",
        "n2 = float(input(\"number 2 \"))\n",
        "symbol = input(\"symbol\")\n",
        "if symbol == \"+\":\n",
        "    print(n1 + n2)\n",
        "elif symbol == \"-\":\n",
        "    print(n1 - n2)\n",
        "elif symbol == \"*\":\n",
        "    print(n1 * n2)\n",
        "elif symbol == \"/\":\n",
        "    print (n1/n2)\n",
        "elif symbol == \"**\":\n",
        "    print(n1 ** n2)"
      ]
    },
    {
      "cell_type": "code",
      "source": [
        "def getParkingHours():\n",
        "    return int(input('Enter # of hours to park: '))\n",
        "\n",
        "def calcParkingFee(hours):\n",
        "    fee = hours * 2.50\n",
        "    if fee < 6.00:\n",
        "        return 6.00\n",
        "    elif fee > 20.00:\n",
        "        return 20.00\n",
        "    else:\n",
        "        return fee\n",
        "\n",
        "hours = getParkingHours()\n",
        "fee = calcParkingFee(hours)\n",
        "print(f\"Total fee: ${fee}.\")"
      ],
      "metadata": {
        "colab": {
          "base_uri": "https://localhost:8080/"
        },
        "id": "XAlOcoguEUxw",
        "outputId": "75147d00-c297-4336-ca5e-90613a8f21eb"
      },
      "execution_count": 1,
      "outputs": [
        {
          "output_type": "stream",
          "name": "stdout",
          "text": [
            "Enter # of hours to park: 5\n",
            "Total fee: $12.5.\n"
          ]
        }
      ]
    },
    {
      "cell_type": "code",
      "source": [
        "months = {}\n",
        "\n",
        "names = [\"Jan\" , \"Feb\" , \"Mar\" , \"Apr\" , \"May\" , \"Jun\" , \"Jul\" , \"Aug\" , \"Sep\" , \"Oct\" , \"Nov\" , \"Dec\"]\n",
        "numbers = [1,2,3,4,5,6,7,8,9,10,11,12]\n",
        "\n",
        "for i in range(len(names)):\n",
        "  months[numbers[i]] = names[i]\n",
        "print(months)"
      ],
      "metadata": {
        "colab": {
          "base_uri": "https://localhost:8080/"
        },
        "id": "m1xH3y3Y44BJ",
        "outputId": "1d2793ef-9169-4d45-8bf3-501650b33c82"
      },
      "execution_count": null,
      "outputs": [
        {
          "output_type": "stream",
          "name": "stdout",
          "text": [
            "{1: 'Jan', 2: 'Feb', 3: 'Mar', 4: 'Apr', 5: 'May', 6: 'Jun', 7: 'Jul', 8: 'Aug', 9: 'Sep', 10: 'Oct', 11: 'Nov', 12: 'Dec'}\n"
          ]
        }
      ]
    },
    {
      "cell_type": "code",
      "source": [
        "for key, value in months.items():\n",
        "  print(key, value)"
      ],
      "metadata": {
        "colab": {
          "base_uri": "https://localhost:8080/"
        },
        "id": "UMf9ccLECiG1",
        "outputId": "f7519aeb-4054-4784-97e6-2a6c95f2f8fe"
      },
      "execution_count": null,
      "outputs": [
        {
          "output_type": "stream",
          "name": "stdout",
          "text": [
            "1 Jan\n",
            "2 Feb\n",
            "3 Mar\n",
            "4 Apr\n",
            "5 May\n",
            "6 Jun\n",
            "7 Jul\n",
            "8 Aug\n",
            "9 Sep\n",
            "10 Oct\n",
            "11 Nov\n",
            "12 Dec\n"
          ]
        }
      ]
    },
    {
      "cell_type": "code",
      "source": [
        "def calc_fee(hours, decimals=2):\n",
        "  fee = 5 + hours * 2.5\n",
        "  fee = round(fee, decimals)\n",
        "  return fee\n",
        "\n",
        "h = int(input('Enter number of hours:'))\n",
        "fee =  calc_fee(h)\n",
        "print(display(fee))\n"
      ],
      "metadata": {
        "id": "jt2j1ioeTYG5",
        "colab": {
          "base_uri": "https://localhost:8080/",
          "height": 71
        },
        "outputId": "476affd1-fcc3-48e8-cca6-7a2da074b286"
      },
      "execution_count": null,
      "outputs": [
        {
          "name": "stdout",
          "output_type": "stream",
          "text": [
            "Enter number of hours:5\n"
          ]
        },
        {
          "output_type": "display_data",
          "data": {
            "text/plain": [
              "17.5"
            ]
          },
          "metadata": {}
        },
        {
          "output_type": "stream",
          "name": "stdout",
          "text": [
            "None\n"
          ]
        }
      ]
    },
    {
      "cell_type": "code",
      "execution_count": null,
      "metadata": {
        "colab": {
          "base_uri": "https://localhost:8080/"
        },
        "id": "SHQuj8qy_Q8y",
        "outputId": "ac0dd0b0-c1c3-4d41-d038-19d6ea40510f"
      },
      "outputs": [
        {
          "name": "stdout",
          "output_type": "stream",
          "text": [
            "Collecting ColabTurtlePlus\n",
            "  Downloading ColabTurtlePlus-2.0.1-py3-none-any.whl.metadata (10 kB)\n",
            "Downloading ColabTurtlePlus-2.0.1-py3-none-any.whl (31 kB)\n",
            "Installing collected packages: ColabTurtlePlus\n",
            "Successfully installed ColabTurtlePlus-2.0.1\n"
          ]
        }
      ],
      "source": [
        "!pip install ColabTurtlePlus"
      ]
    },
    {
      "cell_type": "code",
      "execution_count": null,
      "metadata": {
        "colab": {
          "base_uri": "https://localhost:8080/"
        },
        "id": "fl-SL2fsEAXV",
        "outputId": "7ea40fe1-e988-41d7-d71a-28c5e6262209"
      },
      "outputs": [
        {
          "name": "stdout",
          "output_type": "stream",
          "text": [
            "40 35 30 25 20 15 10 "
          ]
        }
      ],
      "source": [
        "for i in range(40,5,-5):\n",
        "  print(i, end=' ')"
      ]
    },
    {
      "cell_type": "code",
      "source": [
        "l = [1,2,3]"
      ],
      "metadata": {
        "id": "phHF-O-lCjaO"
      },
      "execution_count": null,
      "outputs": []
    },
    {
      "cell_type": "code",
      "source": [
        "l=[]\n",
        "\n",
        "item = int(input(\"give a value: \"))\n",
        "\n",
        "while item != 0:\n",
        "    l.append(item)\n",
        "    item = int(input(\"give a value: \"))\n",
        "\n",
        "\n",
        "print(l)"
      ],
      "metadata": {
        "id": "b7Y2aG4XI8i0",
        "colab": {
          "base_uri": "https://localhost:8080/"
        },
        "outputId": "e3e35bd5-a3dc-4420-9f26-dfcef950b23c"
      },
      "execution_count": null,
      "outputs": [
        {
          "output_type": "stream",
          "name": "stdout",
          "text": [
            "give a value: 1\n",
            "give a value: 0\n",
            "[1]\n"
          ]
        }
      ]
    },
    {
      "cell_type": "code",
      "source": [
        "l = [1=,5,2,7,4,9]\n",
        "l.sort(reverse=True)\n",
        "l"
      ],
      "metadata": {
        "colab": {
          "base_uri": "https://localhost:8080/"
        },
        "id": "Qv2K_0NECoKm",
        "outputId": "fb0d8279-be56-4da5-ec58-6e32ed887098"
      },
      "execution_count": null,
      "outputs": [
        {
          "output_type": "execute_result",
          "data": {
            "text/plain": [
              "[9, 7, 5, 4, 2, 1]"
            ]
          },
          "metadata": {},
          "execution_count": 20
        }
      ]
    },
    {
      "cell_type": "code",
      "source": [
        "for i in range(1, 1_000_000_000):\n",
        "  if i == 10:\n",
        "    break\n",
        "  print(i, end=\" \")\n",
        "print ('Done')"
      ],
      "metadata": {
        "colab": {
          "base_uri": "https://localhost:8080/"
        },
        "id": "CtOjdQqZr8P6",
        "outputId": "d92ac597-61dc-489a-c9e5-4c529ae2f41c"
      },
      "execution_count": null,
      "outputs": [
        {
          "output_type": "stream",
          "name": "stdout",
          "text": [
            "1 2 3 4 5 6 7 8 9 Done\n"
          ]
        }
      ]
    },
    {
      "cell_type": "code",
      "source": [
        "for i in l:\n",
        "  print(i)"
      ],
      "metadata": {
        "colab": {
          "base_uri": "https://localhost:8080/"
        },
        "id": "XjKbeWZECkUp",
        "outputId": "f1520655-ce22-4320-c2af-c71ed4718b66"
      },
      "execution_count": null,
      "outputs": [
        {
          "output_type": "stream",
          "name": "stdout",
          "text": [
            "1\n",
            "2\n",
            "3\n"
          ]
        }
      ]
    },
    {
      "cell_type": "code",
      "source": [
        "d = {'John' : 95, 'Jane' : 93, 'Bob' : 87, 'Anne' : 90}"
      ],
      "metadata": {
        "id": "5hDDxQtdxyKK"
      },
      "execution_count": null,
      "outputs": []
    },
    {
      "cell_type": "code",
      "source": [
        "d['Bryan'] = 85\n",
        "d"
      ],
      "metadata": {
        "colab": {
          "base_uri": "https://localhost:8080/"
        },
        "id": "i87Udel00xOz",
        "outputId": "ffddb62e-98ab-4efa-f1c7-df551570529c"
      },
      "execution_count": null,
      "outputs": [
        {
          "output_type": "execute_result",
          "data": {
            "text/plain": [
              "{'John': 95, 'Jane': 93, 'Bob': 87, 'Anne': 90, 'Bryan': 85}"
            ]
          },
          "metadata": {},
          "execution_count": 5
        }
      ]
    },
    {
      "cell_type": "code",
      "source": [
        "del(d['Bryan'])\n",
        "d"
      ],
      "metadata": {
        "colab": {
          "base_uri": "https://localhost:8080/"
        },
        "id": "HwwStcD_1Yhv",
        "outputId": "da54d09d-268b-4f18-9a8d-f6fdad91cbea"
      },
      "execution_count": null,
      "outputs": [
        {
          "output_type": "execute_result",
          "data": {
            "text/plain": [
              "{'John': 95, 'Jane': 93, 'Bob': 87, 'Anne': 90}"
            ]
          },
          "metadata": {},
          "execution_count": 9
        }
      ]
    },
    {
      "cell_type": "code",
      "source": [
        "my_list = [20, 35, 'hello']\n",
        "new_list = my_list[:]\n",
        "print(new_list[0:2])\n",
        "print(my_list[-1])\n"
      ],
      "metadata": {
        "colab": {
          "base_uri": "https://localhost:8080/"
        },
        "id": "qDPHjKVtPNAM",
        "outputId": "67addd48-eda6-433c-a1b3-620f2fedd571"
      },
      "execution_count": null,
      "outputs": [
        {
          "output_type": "stream",
          "name": "stdout",
          "text": [
            "[20, 35]\n",
            "hello\n"
          ]
        }
      ]
    },
    {
      "cell_type": "code",
      "source": [
        "annual_salary = float(input(\"Enter your starting annual salary: \"))\n",
        "portion_saved = float(input(\"Enter the portion of salary to be saved, as a decimal: \"))\n",
        "total_cost = float(input(\"Enter the cost of your dream home: \"))\n",
        "semi_annual_raise = float(input(\"Enter the semiannual raise, as a decimal: \"))\n",
        "\n",
        "portion_down_payment = 0.25\n",
        "current_savings = 0.0\n",
        "r = 0.04\n",
        "monthly_salary = annual_salary / 12\n",
        "\n",
        "down_payment = total_cost * portion_down_payment\n",
        "months = 0\n",
        "\n",
        "while current_savings < down_payment:\n",
        "    monthly_return = current_savings * r / 12\n",
        "    monthly_savings = portion_saved * monthly_salary\n",
        "    current_savings += monthly_return + monthly_savings\n",
        "    months += 1\n",
        "    if months % 6 == 0:\n",
        "        annual_salary += annual_salary * semi_annual_raise\n",
        "        monthly_salary = annual_salary / 12\n",
        "\n",
        "print(\"Number of months:\", months)"
      ],
      "metadata": {
        "colab": {
          "base_uri": "https://localhost:8080/"
        },
        "id": "qsjOtDa6MXk0",
        "outputId": "100d1023-8b93-40f8-a971-63710cc0c1b2"
      },
      "execution_count": null,
      "outputs": [
        {
          "output_type": "stream",
          "name": "stdout",
          "text": [
            "Enter your starting annual salary: 200000\n",
            "Enter the portion of salary to be saved, as a decimal: .15\n",
            "Enter the cost of your dream home: 1500000\n",
            "Enter the semiannual raise, as a decimal: .02\n",
            "Number of months: 107\n"
          ]
        }
      ]
    },
    {
      "cell_type": "code",
      "source": [
        "def range_check(num, low, high):\n",
        "    if num >= low and num <= high:\n",
        "        return True\n",
        "    else:\n",
        "        return False\n"
      ],
      "metadata": {
        "id": "3m1e5OtPN9tq"
      },
      "execution_count": null,
      "outputs": []
    },
    {
      "cell_type": "code",
      "source": [
        "print(range_check(1,2,3))"
      ],
      "metadata": {
        "colab": {
          "base_uri": "https://localhost:8080/"
        },
        "id": "Y3GnanrqTQ-2",
        "outputId": "bb81a17d-4333-4fa6-a213-071b2388b786"
      },
      "execution_count": null,
      "outputs": [
        {
          "output_type": "stream",
          "name": "stdout",
          "text": [
            "False\n"
          ]
        }
      ]
    },
    {
      "cell_type": "code",
      "source": [
        "def wAVG(L, W):\n",
        "  try:\n",
        "    res = []\n",
        "    for i in range(len(L)):\n",
        "      res.append(L[i] * W[i])\n",
        "    return sum(res) / sum(W)\n",
        "  except ZeroDivisionError:\n",
        "    print('Divided by zero')\n",
        "    return[]\n",
        "  except TypeError:\n",
        "    print('Non-numerical objects found')\n",
        "    return[]\n",
        "  except Exception as e:\n",
        "    print(f'Unknown error: {e}')\n",
        "    return float('nan')\n",
        "wAVG([1,2,3],[0.2,0,-0.2])"
      ],
      "metadata": {
        "colab": {
          "base_uri": "https://localhost:8080/"
        },
        "id": "YWfnuaf3f4ze",
        "outputId": "e3c66311-6ca2-4209-96e5-313f2590911b"
      },
      "execution_count": null,
      "outputs": [
        {
          "output_type": "stream",
          "name": "stdout",
          "text": [
            "Divided by zero\n"
          ]
        },
        {
          "output_type": "execute_result",
          "data": {
            "text/plain": [
              "[]"
            ]
          },
          "metadata": {},
          "execution_count": 13
        }
      ]
    }
  ],
  "metadata": {
    "colab": {
      "provenance": [],
      "authorship_tag": "ABX9TyPjFPNbO0nO4AvN6K4nvonj",
      "include_colab_link": true
    },
    "kernelspec": {
      "display_name": "Python 3",
      "name": "python3"
    },
    "language_info": {
      "name": "python"
    }
  },
  "nbformat": 4,
  "nbformat_minor": 0
}