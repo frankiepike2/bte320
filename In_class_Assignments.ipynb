{
  "cells": [
    {
      "cell_type": "markdown",
      "metadata": {
        "id": "view-in-github",
        "colab_type": "text"
      },
      "source": [
        "<a href=\"https://colab.research.google.com/github/frankiepike2/bte320/blob/main/In_class_Assignments.ipynb\" target=\"_parent\"><img src=\"https://colab.research.google.com/assets/colab-badge.svg\" alt=\"Open In Colab\"/></a>"
      ]
    },
    {
      "cell_type": "code",
      "execution_count": null,
      "metadata": {
        "colab": {
          "base_uri": "https://localhost:8080/"
        },
        "id": "QDrVc5aOjUmX",
        "outputId": "17f14d2c-3a59-4d5f-ada2-baf12772d6f8"
      },
      "outputs": [
        {
          "name": "stdout",
          "output_type": "stream",
          "text": [
            "244.92000000000002\n"
          ]
        }
      ],
      "source": [
        "pi = 3.14\n",
        "h = 10\n",
        "r = 3\n",
        "\n",
        "Area = 2 * pi * r * h + 2 * pi * r ** 2\n",
        "print(Area)"
      ]
    },
    {
      "cell_type": "code",
      "execution_count": null,
      "metadata": {
        "colab": {
          "base_uri": "https://localhost:8080/"
        },
        "id": "35qZGZBrsPei",
        "outputId": "d328fc0c-6562-48fa-8bc9-7d465578d9f6"
      },
      "outputs": [
        {
          "name": "stdout",
          "output_type": "stream",
          "text": [
            "player 1 select rock\n",
            "player 2 select paper\n",
            "player 2 wins\n"
          ]
        }
      ],
      "source": [
        "pl = input(\"player 1 select \")\n",
        "pl2 = input(\"player 2 select \")\n",
        "if pl == pl2:\n",
        "    print(\"draw\")\n",
        "elif pl == \"rock\" and pl2 == \"scissors\":\n",
        "    print(\"player 1 wins\")\n",
        "elif pl == \"rock\" and pl2 == \"paper\":\n",
        "    print(\"player 2 wins\")\n",
        "elif pl == \"paper\" and pl2 == \"scissors\":\n",
        "    print(\"player 2 wins\")\n",
        "elif pl == \"paper\" and pl2 == \"rock\":\n",
        "    print(\"player 1 wins\")\n",
        "elif pl == \"scissors\" and pl2 == \"rock\":\n",
        "    print(\"player 2 wins\")\n",
        "elif pl == \"scissors\" and pl2 == \"paper\":\n",
        "    print(\"player 1 wins\")"
      ]
    },
    {
      "cell_type": "code",
      "execution_count": null,
      "metadata": {
        "colab": {
          "base_uri": "https://localhost:8080/"
        },
        "id": "dZgY9Owz5Ej6",
        "outputId": "72239c06-c1b8-4883-cec0-c2a3eca89b1b"
      },
      "outputs": [
        {
          "name": "stdout",
          "output_type": "stream",
          "text": [
            "number 1 0\n",
            "number 2 1\n",
            "symbol/\n",
            "0.0\n"
          ]
        }
      ],
      "source": [
        "n1 = float(input(\"number 1 \"))\n",
        "n2 = float(input(\"number 2 \"))\n",
        "symbol = input(\"symbol\")\n",
        "if symbol == \"+\":\n",
        "    print(n1 + n2)\n",
        "elif symbol == \"-\":\n",
        "    print(n1 - n2)\n",
        "elif symbol == \"*\":\n",
        "    print(n1 * n2)\n",
        "elif symbol == \"/\":\n",
        "    print (n1/n2)\n",
        "elif symbol == \"**\":\n",
        "    print(n1 ** n2)"
      ]
    },
    {
      "cell_type": "code",
      "execution_count": null,
      "metadata": {
        "colab": {
          "base_uri": "https://localhost:8080/"
        },
        "id": "SHQuj8qy_Q8y",
        "outputId": "ac0dd0b0-c1c3-4d41-d038-19d6ea40510f"
      },
      "outputs": [
        {
          "name": "stdout",
          "output_type": "stream",
          "text": [
            "Collecting ColabTurtlePlus\n",
            "  Downloading ColabTurtlePlus-2.0.1-py3-none-any.whl.metadata (10 kB)\n",
            "Downloading ColabTurtlePlus-2.0.1-py3-none-any.whl (31 kB)\n",
            "Installing collected packages: ColabTurtlePlus\n",
            "Successfully installed ColabTurtlePlus-2.0.1\n"
          ]
        }
      ],
      "source": [
        "!pip install ColabTurtlePlus"
      ]
    },
    {
      "cell_type": "code",
      "execution_count": null,
      "metadata": {
        "colab": {
          "base_uri": "https://localhost:8080/",
          "height": 621
        },
        "id": "guTUJ8IB-Je4",
        "outputId": "fb25e850-db8c-49d3-9eba-93d22dbaf52d"
      },
      "outputs": [
        {
          "data": {
            "text/html": [
              "\n",
              "      <svg width=\"800\" height=\"600\">  \n",
              "        <rect width=\"100%\" height=\"100%\" style=\"fill:white;stroke:;stroke-width:1\"/>\n",
              "        \n",
              "        \n",
              "        <path fill-rule=\"evenodd\" fill-opacity=\"1\" d=\"M 400.0 300.0  L 400.0 300.0  L 500.0 300.0  L 500.0 200.0  L 400.0 200.0  L 400.0 300.0 \" stroke-linecap=\"round\" style=\"stroke:none;stroke-width:1\" fill=\"black\" />\n",
              "        \n",
              "        \n",
              "        \n",
              "      </svg>\n",
              "    "
            ],
            "text/plain": [
              "<IPython.core.display.HTML object>"
            ]
          },
          "metadata": {},
          "output_type": "display_data"
        }
      ],
      "source": [
        "from ColabTurtlePlus.Turtle import *\n",
        "\n",
        "clearscreen()\n",
        "\n",
        "reset = True\n",
        "\n",
        "if reset:\n",
        "  clear()\n",
        "\n",
        "color(\"black\", \"black\")\n",
        "shape('blank')\n",
        "begin_fill()\n",
        "jumpto(0,0)\n",
        "\n",
        "for i in range(4):\n",
        "  forward(100)\n",
        "  left(90)\n",
        "\n",
        "\n",
        "penup()\n",
        "end_fill()"
      ]
    },
    {
      "cell_type": "code",
      "execution_count": null,
      "metadata": {
        "colab": {
          "base_uri": "https://localhost:8080/"
        },
        "id": "fl-SL2fsEAXV",
        "outputId": "7ea40fe1-e988-41d7-d71a-28c5e6262209"
      },
      "outputs": [
        {
          "name": "stdout",
          "output_type": "stream",
          "text": [
            "40 35 30 25 20 15 10 "
          ]
        }
      ],
      "source": [
        "for i in range(40,5,-5):\n",
        "  print(i, end=' ')"
      ]
    },
    {
      "cell_type": "code",
      "execution_count": null,
      "metadata": {
        "colab": {
          "background_save": true,
          "base_uri": "https://localhost:8080/"
        },
        "id": "EmJX2piTylA5",
        "outputId": "edf3d0f0-cf8f-483c-9cd6-029d4d4780fa"
      },
      "outputs": [
        {
          "name": "stdout",
          "output_type": "stream",
          "text": [
            "player 2 wins\n"
          ]
        }
      ],
      "source": [
        "import random\n",
        "play = input(\"Do you want to play a game? \")\n",
        "\n",
        "while play == \"yes\":\n",
        "\n",
        "  pl = input(\"player 1: rock, paper, scissors: \")\n",
        "  pl2 = random.choice(\"rock, paper, scissors: \")\n",
        "\n",
        "\n",
        "  if pl == pl2:\n",
        "    print(\"draw\")\n",
        "  elif(\n",
        "    (pl == \"rock\" and pl2 == \"scissors\") or\n",
        "      (pl == \"paper\" and pl2 == \"rock\") or\n",
        "        (pl == \"scissors\" and pl2 == \"paper\")\n",
        "      ):\n",
        "    print(\"player 1 wins\")\n",
        "  else:\n",
        "    print(\"player 2 wins\")\n",
        "\n",
        "    answer = input(\"Do you want to play again? \")"
      ]
    },
    {
      "cell_type": "code",
      "source": [
        "for i in range(1, 1_000_000_000):\n",
        "  if i == 10:\n",
        "    break\n",
        "  print(i, end=\" \")\n",
        "print ('Done')"
      ],
      "metadata": {
        "colab": {
          "base_uri": "https://localhost:8080/"
        },
        "id": "CtOjdQqZr8P6",
        "outputId": "d92ac597-61dc-489a-c9e5-4c529ae2f41c"
      },
      "execution_count": null,
      "outputs": [
        {
          "output_type": "stream",
          "name": "stdout",
          "text": [
            "1 2 3 4 5 6 7 8 9 Done\n"
          ]
        }
      ]
    },
    {
      "cell_type": "code",
      "source": [
        "l = [1,2,3]"
      ],
      "metadata": {
        "id": "phHF-O-lCjaO"
      },
      "execution_count": null,
      "outputs": []
    },
    {
      "cell_type": "code",
      "source": [
        "for i in l:\n",
        "  print(i)"
      ],
      "metadata": {
        "colab": {
          "base_uri": "https://localhost:8080/"
        },
        "id": "XjKbeWZECkUp",
        "outputId": "f1520655-ce22-4320-c2af-c71ed4718b66"
      },
      "execution_count": null,
      "outputs": [
        {
          "output_type": "stream",
          "name": "stdout",
          "text": [
            "1\n",
            "2\n",
            "3\n"
          ]
        }
      ]
    },
    {
      "cell_type": "code",
      "source": [
        "l = [1=,5,2,7,4,9]\n",
        "l.sort(reverse=True)\n",
        "l"
      ],
      "metadata": {
        "colab": {
          "base_uri": "https://localhost:8080/"
        },
        "id": "Qv2K_0NECoKm",
        "outputId": "fb0d8279-be56-4da5-ec58-6e32ed887098"
      },
      "execution_count": null,
      "outputs": [
        {
          "output_type": "execute_result",
          "data": {
            "text/plain": [
              "[9, 7, 5, 4, 2, 1]"
            ]
          },
          "metadata": {},
          "execution_count": 20
        }
      ]
    },
    {
      "cell_type": "code",
      "source": [
        "l=[]\n",
        "\n",
        "item = int(input(\"give a value: \"))\n",
        "\n",
        "while item != 0:\n",
        "    l.append(item)\n",
        "    item = int(input(\"give a value: \"))\n",
        "\n",
        "\n",
        "print(l)"
      ],
      "metadata": {
        "id": "b7Y2aG4XI8i0"
      },
      "execution_count": null,
      "outputs": []
    }
  ],
  "metadata": {
    "colab": {
      "provenance": [],
      "authorship_tag": "ABX9TyPBhTVDTg1va5Ogj7ilXQ9S",
      "include_colab_link": true
    },
    "kernelspec": {
      "display_name": "Python 3",
      "name": "python3"
    },
    "language_info": {
      "name": "python"
    }
  },
  "nbformat": 4,
  "nbformat_minor": 0
}