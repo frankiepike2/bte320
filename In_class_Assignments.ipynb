{
  "nbformat": 4,
  "nbformat_minor": 0,
  "metadata": {
    "colab": {
      "provenance": [],
      "authorship_tag": "ABX9TyOIT2jRNB1IwrQueKEQOYSs",
      "include_colab_link": true
    },
    "kernelspec": {
      "name": "python3",
      "display_name": "Python 3"
    },
    "language_info": {
      "name": "python"
    }
  },
  "cells": [
    {
      "cell_type": "markdown",
      "metadata": {
        "id": "view-in-github",
        "colab_type": "text"
      },
      "source": [
        "<a href=\"https://colab.research.google.com/github/frankiepike2/bte320/blob/main/In_class_Assignments.ipynb\" target=\"_parent\"><img src=\"https://colab.research.google.com/assets/colab-badge.svg\" alt=\"Open In Colab\"/></a>"
      ]
    },
    {
      "cell_type": "code",
      "execution_count": null,
      "metadata": {
        "colab": {
          "base_uri": "https://localhost:8080/"
        },
        "id": "QDrVc5aOjUmX",
        "outputId": "17f14d2c-3a59-4d5f-ada2-baf12772d6f8"
      },
      "outputs": [
        {
          "output_type": "stream",
          "name": "stdout",
          "text": [
            "244.92000000000002\n"
          ]
        }
      ],
      "source": [
        "pi = 3.14\n",
        "h = 10\n",
        "r = 3\n",
        "\n",
        "Area = 2 * pi * r * h + 2 * pi * r ** 2\n",
        "print(Area)"
      ]
    },
    {
      "cell_type": "code",
      "source": [
        "pl = input(\"player 1 select \")\n",
        "pl2 = input(\"player 2 select \")\n",
        "if pl == pl2:\n",
        "    print(\"draw\")\n",
        "elif pl == \"rock\" and pl2 == \"scissors\":\n",
        "    print(\"player 1 wins\")\n",
        "elif pl == \"rock\" and pl2 == \"paper\":\n",
        "    print(\"player 2 wins\")\n",
        "elif pl == \"paper\" and pl2 == \"scissors\":\n",
        "    print(\"player 2 wins\")\n",
        "elif pl == \"paper\" and pl2 == \"rock\":\n",
        "    print(\"player 1 wins\")\n",
        "elif pl == \"scissors\" and pl2 == \"rock\":\n",
        "    print(\"player 2 wins\")\n",
        "elif pl == \"scissors\" and pl2 == \"paper\":\n",
        "    print(\"player 1 wins\")"
      ],
      "metadata": {
        "colab": {
          "base_uri": "https://localhost:8080/"
        },
        "id": "35qZGZBrsPei",
        "outputId": "d328fc0c-6562-48fa-8bc9-7d465578d9f6"
      },
      "execution_count": null,
      "outputs": [
        {
          "output_type": "stream",
          "name": "stdout",
          "text": [
            "player 1 select rock\n",
            "player 2 select paper\n",
            "player 2 wins\n"
          ]
        }
      ]
    },
    {
      "cell_type": "code",
      "source": [
        "n1 = float(input(\"number 1 \"))\n",
        "n2 = float(input(\"number 2 \"))\n",
        "symbol = input(\"symbol\")\n",
        "if symbol == \"+\":\n",
        "    print(n1 + n2)\n",
        "elif symbol == \"-\":\n",
        "    print(n1 - n2)\n",
        "elif symbol == \"*\":\n",
        "    print(n1 * n2)\n",
        "elif symbol == \"/\":\n",
        "    print (n1/n2)\n",
        "elif symbol == \"**\":\n",
        "    print(n1 ** n2)"
      ],
      "metadata": {
        "colab": {
          "base_uri": "https://localhost:8080/"
        },
        "id": "dZgY9Owz5Ej6",
        "outputId": "72239c06-c1b8-4883-cec0-c2a3eca89b1b"
      },
      "execution_count": 15,
      "outputs": [
        {
          "output_type": "stream",
          "name": "stdout",
          "text": [
            "number 1 0\n",
            "number 2 1\n",
            "symbol/\n",
            "0.0\n"
          ]
        }
      ]
    }
  ]
}